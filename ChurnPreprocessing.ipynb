{
 "cells": [
  {
   "cell_type": "code",
   "execution_count": null,
   "id": "97ea3d89",
   "metadata": {},
   "outputs": [],
   "source": [
    "import pandas as pd\n",
    "import numpy as np\n",
    "from datetime import datetime, date\n",
    "from sklearn.preprocessing import LabelEncoder"
   ]
  },
  {
   "cell_type": "code",
   "execution_count": null,
   "id": "36d64f39",
   "metadata": {},
   "outputs": [],
   "source": [
    "df = pd.read_csv(\"banking_churn_data.csv\", delimiter = \";\")"
   ]
  },
  {
   "cell_type": "code",
   "execution_count": null,
   "id": "097a7387",
   "metadata": {},
   "outputs": [],
   "source": [
    "df['date_of_birth'] = pd.to_datetime(df['date_of_birth'])\n",
    "df['age'] = df['date_of_birth'].apply(lambda x: date.today().year - x.year - ((date.today().month, date.today().day) < (x.month, x.day)))"
   ]
  },
  {
   "cell_type": "code",
   "execution_count": null,
   "id": "1140de67",
   "metadata": {},
   "outputs": [],
   "source": [
    "df.drop(['date_of_birth'], axis=1, inplace=True)"
   ]
  },
  {
   "cell_type": "code",
   "execution_count": null,
   "id": "8ee9de6f",
   "metadata": {},
   "outputs": [],
   "source": [
    "labelencoder_1 = LabelEncoder()\n",
    "df[\"gender\"] = labelencoder_1.fit_transform(df[\"gender\"].values) \n",
    "\n",
    "labelencoder_2 = LabelEncoder()\n",
    "df[\"profession\"] = labelencoder_2.fit_transform(df[\"profession\"].values) \n",
    "\n",
    "labelencoder_3 = LabelEncoder()\n",
    "df[\"segment\"] = labelencoder_3.fit_transform(df[\"segment\"].values)"
   ]
  },
  {
   "cell_type": "code",
   "execution_count": null,
   "id": "9e4b1851",
   "metadata": {},
   "outputs": [],
   "source": [
    "df['ZIP'].fillna(0, inplace=True)\n",
    "df['credit_rating'].fillna(0, inplace=True)\n",
    "df['ZIP'] = df['ZIP'].astype(int)"
   ]
  },
  {
   "cell_type": "code",
   "execution_count": null,
   "id": "9dc059f2",
   "metadata": {},
   "outputs": [],
   "source": [
    "df['churn'] = 0\n",
    "df.loc[~df['contract_end'].isnull(), 'churn'] = 1"
   ]
  },
  {
   "cell_type": "code",
   "execution_count": null,
   "id": "9cd2166b",
   "metadata": {},
   "outputs": [],
   "source": [
    "labelencoder_4 = LabelEncoder()\n",
    "df[\"contract_end\"] = labelencoder_3.fit_transform(df[\"contract_end\"].values)\n",
    "\n",
    "labelencoder_5 = LabelEncoder()\n",
    "df[\"contract_start\"] = labelencoder_3.fit_transform(df[\"contract_start\"].values)"
   ]
  },
  {
   "cell_type": "code",
   "execution_count": null,
   "id": "6990c52b",
   "metadata": {},
   "outputs": [],
   "source": [
    "df.rename(columns = {'number_of_refusals,,,,,,,,,,,,,,,,':'number_of_refusals'}, inplace = True)\n",
    "df['number_of_refusals'] = df['number_of_refusals'].replace('\\..', '', regex=True)"
   ]
  },
  {
   "cell_type": "code",
   "execution_count": null,
   "id": "2a38bd73",
   "metadata": {},
   "outputs": [],
   "source": [
    "object_cols = df.select_dtypes(include='object').columns\n",
    "df[object_cols] = df[object_cols].replace(',', '.', regex=True)\n",
    "df[object_cols] = df[object_cols].astype(float)"
   ]
  },
  {
   "cell_type": "code",
   "execution_count": null,
   "id": "f01963be",
   "metadata": {},
   "outputs": [],
   "source": [
    "df.drop(['contract_start', 'contract_end'], axis=1, inplace=True)"
   ]
  },
  {
   "cell_type": "code",
   "execution_count": null,
   "id": "06972a35",
   "metadata": {},
   "outputs": [],
   "source": [
    "df.to_csv('churn_banking.csv', index=False)"
   ]
  },
  {
   "cell_type": "code",
   "execution_count": null,
   "id": "c14f7828",
   "metadata": {},
   "outputs": [],
   "source": []
  }
 ],
 "metadata": {
  "kernelspec": {
   "display_name": "Python 3 (ipykernel)",
   "language": "python",
   "name": "python3"
  },
  "language_info": {
   "codemirror_mode": {
    "name": "ipython",
    "version": 3
   },
   "file_extension": ".py",
   "mimetype": "text/x-python",
   "name": "python",
   "nbconvert_exporter": "python",
   "pygments_lexer": "ipython3",
   "version": "3.11.3"
  }
 },
 "nbformat": 4,
 "nbformat_minor": 5
}
