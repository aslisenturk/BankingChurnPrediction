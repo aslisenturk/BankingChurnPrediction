{
 "cells": [
  {
   "cell_type": "code",
   "execution_count": null,
   "id": "fc6c0596",
   "metadata": {},
   "outputs": [],
   "source": [
    "import pandas as pd\n",
    "import numpy as np\n",
    "from sklearn.datasets import make_classification\n",
    "from sklearn.model_selection import train_test_split\n",
    "from sklearn.tree import DecisionTreeClassifier\n",
    "from sklearn.metrics import confusion_matrix\n",
    "from sklearn.metrics import classification_report\n",
    "from sklearn.inspection import permutation_importance"
   ]
  },
  {
   "cell_type": "code",
   "execution_count": null,
   "id": "dd5dae90",
   "metadata": {},
   "outputs": [],
   "source": [
    "df = pd.read_csv(\"churn_banking.csv\")"
   ]
  },
  {
   "cell_type": "code",
   "execution_count": null,
   "id": "0a579cff",
   "metadata": {},
   "outputs": [],
   "source": [
    "x_train, x_test, y_train, y_test = train_test_split(x, y, random_state = 11, test_size=0.3)\n",
    "x_train = train.drop('churn', axis=1)\n",
    "y_train = train.loc[:, 'churn']\n",
    "x_test = test.drop('churn', axis=1)\n",
    "y_test = test.loc[:, 'churn']"
   ]
  },
  {
   "cell_type": "code",
   "execution_count": null,
   "id": "f5c79cc0",
   "metadata": {},
   "outputs": [],
   "source": [
    "model = DecisionTreeClassifier()"
   ]
  },
  {
   "cell_type": "code",
   "execution_count": null,
   "id": "af45bead",
   "metadata": {},
   "outputs": [],
   "source": [
    "model.fit(x_train, y_train)\n",
    "predictions = model.predict(x_test)"
   ]
  },
  {
   "cell_type": "code",
   "execution_count": null,
   "id": "af658ab7",
   "metadata": {},
   "outputs": [],
   "source": [
    "print(classification_report(y_test, predictions))"
   ]
  },
  {
   "cell_type": "code",
   "execution_count": null,
   "id": "67ac5bcd",
   "metadata": {},
   "outputs": [],
   "source": [
    "confusion_matrix(y_test, predictions)"
   ]
  },
  {
   "cell_type": "code",
   "execution_count": null,
   "id": "7ac635ef",
   "metadata": {},
   "outputs": [],
   "source": [
    "r = permutation_importance(model, x_test, y_test, \n",
    "                           n_repeats=30, random_state=0)"
   ]
  },
  {
   "cell_type": "code",
   "execution_count": null,
   "id": "576ff638",
   "metadata": {},
   "outputs": [],
   "source": [
    "for i in r.importances_mean.argsort()[::-1]:\n",
    "  if r.importances_mean[i] - 2 * r.importances_std[i] > 0:\n",
    "    print(f\"{df.columns[i]}\\n\" \n",
    "          f\"{r.importances_mean[i]:.3f}\\t\"\n",
    "          f\" +/- {r.importances_std[i]:.3f}\\n\")"
   ]
  },
  {
   "cell_type": "code",
   "execution_count": null,
   "id": "4ecae8de",
   "metadata": {},
   "outputs": [],
   "source": [
    "for i in r.importances_mean.argsort()[::-1]:\n",
    "  if r.importances_mean[i] - 2 * r.importances_std[i] <= 0:\n",
    "    print(f\"{df.columns[i]}\\n\" \n",
    "          f\"{r.importances_mean[i]:.3f}\\t\"\n",
    "          f\" +/- {r.importances_std[i]:.3f}\\n\")"
   ]
  },
  {
   "cell_type": "code",
   "execution_count": null,
   "id": "a190b32e",
   "metadata": {},
   "outputs": [],
   "source": []
  }
 ],
 "metadata": {
  "kernelspec": {
   "display_name": "Python 3 (ipykernel)",
   "language": "python",
   "name": "python3"
  },
  "language_info": {
   "codemirror_mode": {
    "name": "ipython",
    "version": 3
   },
   "file_extension": ".py",
   "mimetype": "text/x-python",
   "name": "python",
   "nbconvert_exporter": "python",
   "pygments_lexer": "ipython3",
   "version": "3.11.3"
  }
 },
 "nbformat": 4,
 "nbformat_minor": 5
}
